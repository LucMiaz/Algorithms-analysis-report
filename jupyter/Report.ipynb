{
 "metadata": {
  "kernelspec": {
   "display_name": "Python 3",
   "language": "python",
   "name": "python3"
  },
  "language_info": {
   "codemirror_mode": {
    "name": "ipython",
    "version": 3
   },
   "file_extension": ".py",
   "mimetype": "text/x-python",
   "name": "python",
   "nbconvert_exporter": "python",
   "pygments_lexer": "ipython3",
   "version": "3.4.1"
  },
  "name": "",
  "signature": "sha256:5474402a256e9bd443a52acaf4f7d5bf10c72b5564752e042b8df4006397cc31"
 },
 "nbformat": 3,
 "nbformat_minor": 0,
 "worksheets": [
  {
   "cells": [
    {
     "cell_type": "markdown",
     "metadata": {},
     "source": [
      "# Finding an optimal algorithm for flanging noise detection\n",
      "The aim of our project is implement an algorithm capable of determining when a train is making flanging or squealing noise, based on an audio recording. With this, we will be able to compute the length of time where annoying noise was heard.\n",
      "\n",
      "The course of our project is in four time:\n",
      "1. We have selected by hands the intervals with noise on a small subset of samples (about twenty). We asked other people of our team to do the same. This gives us a subjective set of data to compare our algorithms. The *subjective* part is very important as the perception of what an annoying noise is cannot be reduced solely to physical variables.\n",
      "2. We have developped a simple algorithm for flanging noise based on the detection of steep change in band power ratio (BPR). The band power ratio is the relation of the low band frequencies to the high band frequencies taken on a small increment (dt) of the signal. This pattern leads to an algorithm with three variables: a delta time, a cutoff frequency (fc) and a threshold. We computed the BPR for cutoff frequencies and delta times, first without worrying about the threshold. This gave us a list of BPRs to compare with the set of handmade data. We tested the combinations of the following fc and dt each giving a proto-algorithm (as it misses the threshold): fc in (2000,3000,3500,4000,45000) and dt in (0.02,0.05,0.1).\n",
      "3. For all the previously obtained proto-algorithms, we computed the True Positive Rate (i.e. the ratio of increments that were rightly selected by the algorithm as containing noise) and the False Positive Rate (i.e. the ratio of increments wrongly selected as containing noise) with 300 thresholds slip between the smallest and highest BPR. With this we will compute the so-called Receiving Operating Characteristic (ROC). More can be found on this method in Swets, Dawes and Monahan popularisation article (2000).\n",
      "\n",
      "For each now-complete algorithm, we selected the best one, that is - for us - the one that is the farthest from the diagonal spanning from (0,0) to (1,1).\n",
      "\n",
      "The following R-code detail how we proceeded:"
     ]
    },
    {
     "cell_type": "code",
     "collapsed": true,
     "input": [],
     "language": "python",
     "metadata": {},
     "outputs": [],
     "prompt_number": null
    },
    {
     "cell_type": "markdown",
     "metadata": {},
     "source": [
      "The accuracy of each algorithm with the optimized threshold depends on the author that selected the intervals. The choices of two of our authors (esr and PHF) could be approximated fairly well by an algorithm (the distance to the main diagonal was over 0.45). However, to take into account the other authors, we selected all combinations of algorithm-threshold-author that were distant from the diagonal with over 0.35 and added it to the list of the algorithm-threshold. For each algorithm, we took the mean of the thresholds available (i.e. if there was an other threshold from author esr or PHF, we took the mean of these thresholds and of the threshold obtained for all authors). Then we computed the TPR, TNR, FPR and FNR for all authors and globally."
     ]
    },
    {
     "cell_type": "markdown",
     "metadata": {},
     "source": [
      "# References\n",
      "**SWETS, J. A., DAWES, R. M. and MONAHAN, J. 2000**: Better Decision Through Science, in: *Scientific American*, 283, 82-87. URL: ist-socrates.berkeley.edu/~maccoun/LP_SwetsDawesMonahan2000.pdf (accessed on 04.11.2015)"
     ]
    },
    {
     "cell_type": "code",
     "collapsed": true,
     "input": [],
     "language": "python",
     "metadata": {},
     "outputs": [],
     "prompt_number": null
    }
   ],
   "metadata": {}
  }
 ]
}